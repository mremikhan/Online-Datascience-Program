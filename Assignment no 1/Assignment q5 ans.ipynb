{
 "cells": [
  {
   "cell_type": "code",
   "execution_count": 1,
   "id": "d50b8b21",
   "metadata": {},
   "outputs": [
    {
     "name": "stdout",
     "output_type": "stream",
     "text": [
      "please enter your first name =muhammad\n",
      "please enter your last name =rehman\n",
      "hello!rehman muhammad\n"
     ]
    }
   ],
   "source": [
    "firstname=input(\"please enter your first name =\")\n",
    "lastname=input(\"please enter your last name =\")\n",
    "print(\"hello!\"+lastname+\" \"+firstname)"
   ]
  },
  {
   "cell_type": "code",
   "execution_count": null,
   "id": "ca1ad72a",
   "metadata": {},
   "outputs": [],
   "source": []
  }
 ],
 "metadata": {
  "kernelspec": {
   "display_name": "Python 3 (ipykernel)",
   "language": "python",
   "name": "python3"
  },
  "language_info": {
   "codemirror_mode": {
    "name": "ipython",
    "version": 3
   },
   "file_extension": ".py",
   "mimetype": "text/x-python",
   "name": "python",
   "nbconvert_exporter": "python",
   "pygments_lexer": "ipython3",
   "version": "3.9.7"
  }
 },
 "nbformat": 4,
 "nbformat_minor": 5
}
