{
 "cells": [
  {
   "cell_type": "code",
   "execution_count": 1,
   "id": "a94e9105",
   "metadata": {},
   "outputs": [
    {
     "name": "stdout",
     "output_type": "stream",
     "text": [
      "please enter first number =12\n",
      "please enter second number =23\n",
      "the sum of two number is = 35\n"
     ]
    }
   ],
   "source": [
    "firstnumber=int(input(\"please enter first number =\"))\n",
    "secondnumber=int(input(\"please enter second number =\"))\n",
    "addition=firstnumber+secondnumber\n",
    "print(\"the sum of two number is =\",addition)"
   ]
  },
  {
   "cell_type": "code",
   "execution_count": null,
   "id": "d8843b08",
   "metadata": {},
   "outputs": [],
   "source": []
  }
 ],
 "metadata": {
  "kernelspec": {
   "display_name": "Python 3 (ipykernel)",
   "language": "python",
   "name": "python3"
  },
  "language_info": {
   "codemirror_mode": {
    "name": "ipython",
    "version": 3
   },
   "file_extension": ".py",
   "mimetype": "text/x-python",
   "name": "python",
   "nbconvert_exporter": "python",
   "pygments_lexer": "ipython3",
   "version": "3.9.7"
  }
 },
 "nbformat": 4,
 "nbformat_minor": 5
}
