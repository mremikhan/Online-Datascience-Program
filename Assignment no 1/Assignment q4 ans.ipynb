{
 "cells": [
  {
   "cell_type": "code",
   "execution_count": 1,
   "id": "81a74d4c",
   "metadata": {},
   "outputs": [
    {
     "name": "stdout",
     "output_type": "stream",
     "text": [
      "please enter the radius of a circule =10\n",
      "Area of the circle is :314.1592653589793\n"
     ]
    }
   ],
   "source": [
    "import math\n",
    "radius=float(input(\"please enter the radius of a circule =\"))\n",
    "area = math.pi*radius*radius\n",
    "print(\"Area of the circle is :{0}\".format(area))"
   ]
  },
  {
   "cell_type": "code",
   "execution_count": null,
   "id": "f78c2f8d",
   "metadata": {},
   "outputs": [],
   "source": []
  }
 ],
 "metadata": {
  "kernelspec": {
   "display_name": "Python 3 (ipykernel)",
   "language": "python",
   "name": "python3"
  },
  "language_info": {
   "codemirror_mode": {
    "name": "ipython",
    "version": 3
   },
   "file_extension": ".py",
   "mimetype": "text/x-python",
   "name": "python",
   "nbconvert_exporter": "python",
   "pygments_lexer": "ipython3",
   "version": "3.9.7"
  }
 },
 "nbformat": 4,
 "nbformat_minor": 5
}
